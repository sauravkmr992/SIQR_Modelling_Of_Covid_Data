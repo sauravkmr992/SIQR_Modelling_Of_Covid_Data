{
 "cells": [
  {
   "cell_type": "markdown",
   "source": [
    "# SIQR Modelling"
   ],
   "metadata": {}
  },
  {
   "cell_type": "markdown",
   "source": [
    "### In order to better understand the Covid-19 data from the onset of the pandemic, I tried to calculate the associated parameters that explains the evolution of pandemic.\r\n",
    "### For eg, Rate of Transmission (beta),Effective Reproduction rate (Reff) etc."
   ],
   "metadata": {}
  },
  {
   "cell_type": "markdown",
   "source": [
    "### For calculation parameters discused above I have used equations from the research paper [Modelling and analysis of COVID-19 epidemic in India](https://www.sciencedirect.com/science/article/pii/S2666449620300311) to fit the Covid-19 data which will give me **beta**,**(alpha+eta)**, **Reff** for a particular interval.Please go through the above research paper to better understand the below code. Comments have also been added for the clarity.\r\n",
    "### Below equation has been used to fit the data,\r\n"
   ],
   "metadata": {}
  },
  {
   "cell_type": "markdown",
   "source": [
    "<img src='eq9.png' width=500>\r\n",
    "\r\n",
    "### which is in form \r\n",
    "\r\n",
    "<img src='eq9form.png' width=300>"
   ],
   "metadata": {}
  },
  {
   "cell_type": "markdown",
   "source": [
    "\r\n",
    "### here A=(alpha + eta)*(Inot) , B= beta- (alpha + eta) and t is the number of days from the starting point of your model."
   ],
   "metadata": {}
  },
  {
   "cell_type": "markdown",
   "source": [
    "### Importing libraries"
   ],
   "metadata": {}
  },
  {
   "cell_type": "code",
   "execution_count": 3,
   "source": [
    "import numpy as np\r\n",
    "import pandas as pd\r\n",
    "import seaborn as sns\r\n",
    "import matplotlib.pyplot as plt\r\n",
    "\r\n",
    "%matplotlib inline"
   ],
   "outputs": [
    {
     "output_type": "stream",
     "name": "stderr",
     "text": [
      "C:\\Users\\Saurav Kumar\\Anaconda3\\envs\\virtual_workspace\\lib\\importlib\\_bootstrap.py:219: RuntimeWarning: numpy.ufunc size changed, may indicate binary incompatibility. Expected 192 from C header, got 216 from PyObject\n",
      "  return f(*args, **kwds)\n",
      "C:\\Users\\Saurav Kumar\\Anaconda3\\envs\\virtual_workspace\\lib\\importlib\\_bootstrap.py:219: RuntimeWarning: numpy.ufunc size changed, may indicate binary incompatibility. Expected 192 from C header, got 216 from PyObject\n",
      "  return f(*args, **kwds)\n",
      "C:\\Users\\Saurav Kumar\\Anaconda3\\envs\\virtual_workspace\\lib\\importlib\\_bootstrap.py:219: RuntimeWarning: numpy.ufunc size changed, may indicate binary incompatibility. Expected 192 from C header, got 216 from PyObject\n",
      "  return f(*args, **kwds)\n",
      "C:\\Users\\Saurav Kumar\\Anaconda3\\envs\\virtual_workspace\\lib\\importlib\\_bootstrap.py:219: RuntimeWarning: numpy.ufunc size changed, may indicate binary incompatibility. Expected 192 from C header, got 216 from PyObject\n",
      "  return f(*args, **kwds)\n",
      "C:\\Users\\Saurav Kumar\\Anaconda3\\envs\\virtual_workspace\\lib\\importlib\\_bootstrap.py:219: RuntimeWarning: numpy.ufunc size changed, may indicate binary incompatibility. Expected 192 from C header, got 216 from PyObject\n",
      "  return f(*args, **kwds)\n"
     ]
    }
   ],
   "metadata": {}
  },
  {
   "cell_type": "markdown",
   "source": [
    "### Getting the data and cleaning it."
   ],
   "metadata": {}
  },
  {
   "cell_type": "code",
   "execution_count": 4,
   "source": [
    "df=pd.read_csv(r'C:\\Users\\Saurav Kumar\\projects\\covid\\covid.csv')\r\n",
    "\r\n",
    "remove_ind=df[df['state']=='TT']['state'].index\r\n",
    "\r\n",
    "df.drop(remove_ind,inplace=True)\r\n",
    "\r\n",
    "grouped_dates=df.groupby('dates').sum().reset_index()\r\n",
    "\r\n",
    "grouped_dates.drop('population',axis=1,inplace=True )\r\n",
    "\r\n",
    "grouped_dates.drop(559,axis=0,inplace=True )"
   ],
   "outputs": [],
   "metadata": {}
  },
  {
   "cell_type": "code",
   "execution_count": 5,
   "source": [
    "\r\n",
    "#Curve_fit is imported from scipy module\r\n",
    "\r\n",
    "from scipy.optimize import curve_fit\r\n",
    "\r\n",
    "'''Eq 9 from the research paper'''\r\n",
    "\r\n",
    "# Defining a equation in below function which is derived in the research paper that will fit in the scraped data to obtain pandemic parameters.\r\n",
    "\r\n",
    "def optimize(t,a,b):\r\n",
    "    return (a/b)*(np.exp(b*t)-1)\r\n",
    "\r\n",
    "\r\n",
    "# Taking the total reported confirmed Cases from 15th March,2021 to 15th May,2021 when India experiencing second wave peak in between.\r\n",
    "\r\n",
    "y=grouped_dates[(grouped_dates.dates >'2021-03-15') & ((grouped_dates.dates <'2021-05-16'))]['confirmed'].cumsum().values\r\n",
    "\r\n",
    "# x (input) as number of days from which we are calculating.\r\n",
    "\r\n",
    "x=np.array(range(1,len(y)+1))\r\n",
    "\r\n",
    "\r\n",
    "# Fitting the above data points (x,y) on fucntion described in OPTIMIZE while also providing inital guess value for both the fitting parameters\r\n",
    "\r\n",
    "popt,pcov=curve_fit(optimize,x,y,p0=(0.22,0.08))\r\n",
    "\r\n",
    "# Extracting fitting parameters A & B below \r\n",
    "\r\n",
    "a,b=popt\r\n",
    "\r\n",
    "print(f'a : {a}, b : {b}')"
   ],
   "outputs": [
    {
     "output_type": "stream",
     "name": "stdout",
     "text": [
      "a : 52063.60124819972, b : 0.04132911943281094\n"
     ]
    }
   ],
   "metadata": {}
  },
  {
   "cell_type": "markdown",
   "source": [
    "### In the above cell , we calculated the fitting parameters A & B using which we will obtain the rate of transmission (beta) and Effective Reproduction number (Reff).\r\n",
    "### Please see research paper for more details.\r\n",
    "\r\n",
    "### **Note** : While fitting the equation to the data points, I have provided initial guess for both the parameters in the **curve_fit** func of ***scipy*** otherwise the predicted value would diverge drastically.\r\n",
    "\r\n",
    "### I have defined  (alpha + eta) as **alpha** here which is **A/Inot**"
   ],
   "metadata": {}
  },
  {
   "cell_type": "code",
   "execution_count": 6,
   "source": [
    "# Inot will be the total reported confirmed cases on the first day of time interval for which we are calculating.\r\n",
    "\r\n",
    "alpha=a/y[0]\r\n",
    "\r\n",
    "# Beta which is rate of transmission is given by **b+alpha**\r\n",
    "\r\n",
    "beta=alpha+b\r\n",
    "    \r\n",
    "print('Rate of Transmission for period between 15th March to 15th May is : ',beta)"
   ],
   "outputs": [
    {
     "output_type": "stream",
     "name": "stdout",
     "text": [
      "Rate of Transmission for period between 15th March to 15th May is :  1.8447723023695153\n"
     ]
    }
   ],
   "metadata": {}
  },
  {
   "cell_type": "code",
   "execution_count": 7,
   "source": [
    "# Reff is the effective reproduction number which come here as above 1 which means covid19 is still spreading.\r\n",
    "\r\n",
    "reff=beta/alpha\r\n",
    "print('Effective Reproduction Number for this period is : ', reff)"
   ],
   "outputs": [
    {
     "output_type": "stream",
     "name": "stdout",
     "text": [
      "Effective Reproduction Number for this period is :  1.0229167848612293\n"
     ]
    }
   ],
   "metadata": {}
  },
  {
   "cell_type": "markdown",
   "source": [
    "### Visualisation of the observed data along with the values obtained after passing the just calculated fitting parameters in the equation for the same period will help us analyse how good is our curve fit. \r\n"
   ],
   "metadata": {}
  },
  {
   "cell_type": "code",
   "execution_count": 8,
   "source": [
    "# Calculating the y_values from our fitted equation.\r\n",
    "y_opt=optimize(x,a,b)\r\n",
    "\r\n",
    "fig,ax=plt.subplots(figsize=(8,6))\r\n",
    "\r\n",
    "#plotting observed and obtained y_values(confirmed cases)\r\n",
    "fitted = sns.lineplot(x=x,y=y_opt)\r\n",
    "observed = sns.lineplot(x=x,y=y)\r\n",
    "\r\n",
    "ax.legend(['fitted','observed'])"
   ],
   "outputs": [
    {
     "output_type": "execute_result",
     "data": {
      "text/plain": [
       "<matplotlib.legend.Legend at 0x1bd23c8dcc8>"
      ]
     },
     "metadata": {},
     "execution_count": 8
    },
    {
     "output_type": "display_data",
     "data": {
      "image/png": "[encoded data removed]",
      "text/plain": [
       "<Figure size 576x432 with 1 Axes>"
      ]
     },
     "metadata": {
      "needs_background": "light"
     }
    }
   ],
   "metadata": {}
  },
  {
   "cell_type": "markdown",
   "source": [
    "### You can see it's a good fit.\r\n",
    "\r\n",
    "### Calculating R2 score using scikit.metrics module. R2 score helps us understand how well we have fitted the equation to our data.\r\n"
   ],
   "metadata": {}
  },
  {
   "cell_type": "code",
   "execution_count": 9,
   "source": [
    "from sklearn.metrics import r2_score\r\n",
    "\r\n",
    "print('R2 Score : ',r2_score(y_opt,y))"
   ],
   "outputs": [
    {
     "output_type": "stream",
     "name": "stdout",
     "text": [
      "R2 Score :  0.9898514224232584\n"
     ]
    }
   ],
   "metadata": {}
  },
  {
   "cell_type": "markdown",
   "source": [
    "### In the above cells, we calculated rate of transmission for a 2 month interval i.e. from March,2021 to May,2021. We can also obtain these parameters for a shorter period\r\n",
    "### for eg. **for a period between 10th April to 10th May** or **for a period of 8 or 10 days**."
   ],
   "metadata": {}
  },
  {
   "cell_type": "markdown",
   "source": [
    "### Below I have calculated the fitting parameters for a period between 15th April to 5th May. Lets see the transmission rate of this period.\r\n"
   ],
   "metadata": {}
  },
  {
   "cell_type": "code",
   "execution_count": 10,
   "source": [
    "from scipy.optimize import curve_fit\r\n",
    "\r\n",
    "'''Eq 9 from the research paper'''\r\n",
    "\r\n",
    "def optimize(t,a,b):\r\n",
    "    first=a/b\r\n",
    "    second=(np.exp((b)*t)-1)\r\n",
    "    return first*second\r\n",
    "\r\n",
    "# Period between 15th April,2021 and 05th May,2021 has been selected below.\r\n",
    "\r\n",
    "y1=grouped_dates[(grouped_dates.dates >'2021-04-15') & (grouped_dates.dates <'2021-05-05')]['confirmed'].cumsum().values\r\n",
    "\r\n",
    "'''number of days from 15th March,2021'''\r\n",
    "\r\n",
    "x1=np.array(range(1,len(y1)+1))\r\n",
    "\r\n",
    "'''Fitting the above data points on fucntion described in OPTIMIZE'''\r\n",
    "\r\n",
    "popt,pcov=curve_fit(optimize,x1,y1,p0=(0.22,0.08))\r\n",
    "\r\n",
    "'''Fitting Parameters A and B'''\r\n",
    "\r\n",
    "a1,b1=popt\r\n",
    "\r\n",
    "print(f'a : {a1}, b : {b1}')"
   ],
   "outputs": [
    {
     "output_type": "stream",
     "name": "stdout",
     "text": [
      "a : 259885.99953290314, b : 0.027092994182226094\n"
     ]
    }
   ],
   "metadata": {}
  },
  {
   "cell_type": "code",
   "execution_count": 11,
   "source": [
    "# Inot will be the total reported confirmed cases on the first day of time interval for which we are calculating.\r\n",
    "\r\n",
    "alpha1=a1/y1[0]\r\n",
    "\r\n",
    "# Beta which is rate of transmission is given by \"b+alpha\"\r\n",
    "\r\n",
    "beta1=alpha1+b1\r\n",
    "\r\n",
    "print('Rate of Transmission for period between 15th April to 5th May is : ',beta1)"
   ],
   "outputs": [
    {
     "output_type": "stream",
     "name": "stdout",
     "text": [
      "Rate of Transmission for period between 15th April to 5th May is :  1.13770743137893\n"
     ]
    }
   ],
   "metadata": {}
  },
  {
   "cell_type": "code",
   "execution_count": 12,
   "source": [
    "reff1=beta1/alpha1\r\n",
    "print('Effective Reproduction rate for this period is',reff1)"
   ],
   "outputs": [
    {
     "output_type": "stream",
     "name": "stdout",
     "text": [
      "Effective Reproduction rate for this period is 1.0243945993090198\n"
     ]
    }
   ],
   "metadata": {}
  },
  {
   "cell_type": "markdown",
   "source": [
    "### Visualizing the observed and fitted data"
   ],
   "metadata": {}
  },
  {
   "cell_type": "code",
   "execution_count": 13,
   "source": [
    "# Calculating the y_values from our fitted equation.\r\n",
    "\r\n",
    "y_opt1=optimize(x1,a1,b1)\r\n",
    "\r\n",
    "fig,ax=plt.subplots(figsize=(8,6))\r\n",
    "\r\n",
    "#plotting observed and obtained y_values(confirmed cases)\r\n",
    "fitted1 = sns.lineplot(x=x1,y=y_opt1)\r\n",
    "observed1 = sns.lineplot(x=x1,y=y1)\r\n",
    "\r\n",
    "ax.legend(['fitted','observed'])"
   ],
   "outputs": [
    {
     "output_type": "execute_result",
     "data": {
      "text/plain": [
       "<matplotlib.legend.Legend at 0x1bd240e8ec8>"
      ]
     },
     "metadata": {},
     "execution_count": 13
    },
    {
     "output_type": "display_data",
     "data": {
      "image/png": "[encoded data removed]",
      "text/plain": [
       "<Figure size 576x432 with 1 Axes>"
      ]
     },
     "metadata": {
      "needs_background": "light"
     }
    }
   ],
   "metadata": {}
  },
  {
   "cell_type": "code",
   "execution_count": 14,
   "source": [
    "from sklearn.metrics import r2_score\r\n",
    "\r\n",
    "print('R2 Score : ',r2_score(optimize(x1,a1,b1),y1))"
   ],
   "outputs": [
    {
     "output_type": "stream",
     "name": "stdout",
     "text": [
      "R2 Score :  0.999414600885281\n"
     ]
    }
   ],
   "metadata": {}
  },
  {
   "cell_type": "markdown",
   "source": [
    "### Here, we have better R2 score than the pervious one where period is much larger. Like this, we can calculate **beta** and **Reff** for any period for which we have the data points. "
   ],
   "metadata": {}
  },
  {
   "cell_type": "markdown",
   "source": [
    "# End of the Notebook"
   ],
   "metadata": {}
  }
 ],
 "metadata": {
  "orig_nbformat": 4,
  "language_info": {
   "name": "python",
   "version": "3.7.9",
   "mimetype": "text/x-python",
   "codemirror_mode": {
    "name": "ipython",
    "version": 3
   },
   "pygments_lexer": "ipython3",
   "nbconvert_exporter": "python",
   "file_extension": ".py"
  },
  "kernelspec": {
   "name": "python3",
   "display_name": "Python 3.7.9 64-bit ('virtual_workspace': conda)"
  },
  "interpreter": {
   "hash": "2396507ca62a9a8d479472fc04f4eeced6c36bc4bc5f21fac6bdda3fb5eadd3f"
  }
 },
 "nbformat": 4,
 "nbformat_minor": 2
}